{
 "cells": [
  {
   "cell_type": "code",
   "execution_count": 30,
   "id": "22155643-3fbe-4343-9527-c8d4d500a8aa",
   "metadata": {},
   "outputs": [
    {
     "data": {
      "text/plain": [
       "nls (generic function with 1 method)"
      ]
     },
     "execution_count": 30,
     "metadata": {},
     "output_type": "execute_result"
    }
   ],
   "source": [
    "using NLsolve, Dates\n",
    "#求解\n",
    "function nls(func, params...; ini = [0.0])\n",
    "    if typeof(ini) <: Number\n",
    "        r = nlsolve((vout,vin)->vout[1]=func(vin[1],params...), [ini],ftol = 1.0e-8)\n",
    "        v = r.zero[1]\n",
    "    else\n",
    "        r = nlsolve((vout,vin)->vout .= func(vin,params...), ini, ftol = 1.0e-8)\n",
    "        v = r.zero\n",
    "    end\n",
    "    return v, r.f_converged\n",
    "end"
   ]
  },
  {
   "cell_type": "code",
   "execution_count": 2,
   "id": "20583fc1-6ef9-4213-be79-92dc8af262a0",
   "metadata": {},
   "outputs": [
    {
     "data": {
      "text/plain": [
       "L2error (generic function with 1 method)"
      ]
     },
     "execution_count": 2,
     "metadata": {},
     "output_type": "execute_result"
    }
   ],
   "source": [
    "#空間前進差分\n",
    "function diff_for(u, Dx)\n",
    "    N = length(u)\n",
    "    return vcat([(u[i+1]-u[i])/Dx for i in 1:(N-1)],[(u[1]-u[N])/Dx])\n",
    "end\n",
    "#空間後退差分\n",
    "function diff_back(u, Dx)\n",
    "    N = length(u)\n",
    "    return vcat([(u[1]-u[N])/Dx],[(u[i]-u[i-1])/Dx for i in 2:N],)\n",
    "end\n",
    "#空間中心1次差分\n",
    "function diff1(u, Dx)\n",
    "    N = length(u)\n",
    "    return vcat([(u[2]-u[N])/(2*Dx)],[(u[i+1] - u[i-1])/(2*Dx) for i in 2:(N-1)],[(u[1]-u[N-1])/(2*Dx)])\n",
    "end\n",
    "#空間中心2次差分\n",
    "function diff2(u, Dx)\n",
    "    N = length(u)\n",
    "    return vcat([(u[2] - 2*u[1] + u[N])/(Dx^2)],[(u[i+1] - 2*u[i] + u[i-1])/(Dx^2) for i in 2:(N-1)],[(u[1]-2*u[N] + u[N-1])/(Dx^2)])\n",
    "end\n",
    "#誤差\n",
    "function L2error(u,v,Dx)\n",
    "    N = length(u)\n",
    "    e = 0.0\n",
    "    for k in 1:N\n",
    "        e += (u[k] - v[k])^2*Dx\n",
    "    end\n",
    "    return e^0.5\n",
    "end"
   ]
  },
  {
   "cell_type": "code",
   "execution_count": 3,
   "id": "36ce7d74-d4dc-4c65-986f-950ac15d10d7",
   "metadata": {},
   "outputs": [
    {
     "data": {
      "text/plain": [
       "G_DVDM1 (generic function with 1 method)"
      ]
     },
     "execution_count": 3,
     "metadata": {},
     "output_type": "execute_result"
    }
   ],
   "source": [
    "#1段DVDM(u,v)\n",
    "function h_DVDM1(U, U0, eps, Dt, Dx) #U=(u,v)\n",
    "    N = Int64(length(U0)/2)\n",
    "    u = [U[k] for k in 1:N]\n",
    "    v = [U[k] for k in (N+1):(2*N)]\n",
    "    u0 = [U0[k] for k in 1:N]\n",
    "    v0 = [U0[k] for k in (N+1):(2*N)]\n",
    "    cd_u = diff1(u,Dx)\n",
    "    cd_u0 = diff1(u0,Dx)\n",
    "    cdd_u = diff2(u,Dx)\n",
    "    cdd_u0 = diff2(u0,Dx)\n",
    "    ret = zeros(Float64,2*N)\n",
    "    for k in 1:N\n",
    "        ret[k] = (u[k]-u0[k])/Dt - (v[k]+v0[k])/2\n",
    "        ret[N+k] = (v[k]-v0[k])/Dt - (cdd_u[k]+cdd_u0[k])/2 - eps*( 2*cdd_u[k]* cd_u[k] + cdd_u[k]* cd_u0[k] + cdd_u0[k]*cd_u[k] + 2*cdd_u0[k]* cd_u0[k])/6\n",
    "    end\n",
    "    return ret\n",
    "end\n",
    "#1段DVDM保存量\n",
    "function G_DVDM1(U,eps,Dx)\n",
    "    N = Int(length(U)/2)\n",
    "    u = [U[k] for k in 1:N]\n",
    "    v = [U[k] for k in (N+1):(2*N)]\n",
    "    bd_u = diff_back(u,Dx)\n",
    "    return Dx*sum([v[k]^2/2 + (bd_u[k])^2/2 + eps*(bd_u[k])^3/6 for k in 1:N])\n",
    "end"
   ]
  },
  {
   "cell_type": "code",
   "execution_count": 4,
   "id": "87d31efb-1ad7-4313-a74e-53068fe412cb",
   "metadata": {},
   "outputs": [
    {
     "data": {
      "text/plain": [
       "G_DVDM2 (generic function with 1 method)"
      ]
     },
     "execution_count": 4,
     "metadata": {},
     "output_type": "execute_result"
    }
   ],
   "source": [
    "#2段DVDM(u)\n",
    "function h_DVDM2(u, u_now, u_prev, eps, Dt, Dx) #U=(u,v)\n",
    "    N = length(u_now)\n",
    "    fa_u = (u + u_now)/2\n",
    "    ba_u = (u_now + u_prev)/2\n",
    "    cd_fa_u = diff1(fa_u,Dx)\n",
    "    cd_ba_u = diff1(ba_u,Dx)\n",
    "    cdd_fa_u = diff2(fa_u,Dx)\n",
    "    cdd_ba_u = diff2(ba_u,Dx)\n",
    "    faba_cdd_u = (cdd_fa_u + cdd_ba_u)/2\n",
    "    left = (u - 2*u_now + u_prev)/(Dt^2) - faba_cdd_u\n",
    "    rest = [2*cdd_fa_u[k]*cd_fa_u[k] + cdd_fa_u[k]*cd_ba_u[k] + cdd_ba_u[k]*cd_fa_u[k] + 2*cdd_ba_u[k]*cd_ba_u[k] for k in 1:N]\n",
    "    return left - rest*eps/6\n",
    "end\n",
    "#2段DVDM保存量\n",
    "function G_DVDM2(u,u_now, eps, Dt, Dx)\n",
    "    N = length(u)\n",
    "    fd_fa_u = diff_for((u + u_now)/2,Dx)\n",
    "    return Dx*sum([(u[k] - u_now[k])^2/(2*Dt^2) + (fd_fa_u[k])^2/2 + eps*(fd_fa_u[k])^3/6 for k in 1:N])\n",
    "end"
   ]
  },
  {
   "cell_type": "code",
   "execution_count": 5,
   "id": "8b22d5f5-7338-442e-af65-30a67cb01514",
   "metadata": {},
   "outputs": [
    {
     "data": {
      "text/plain": [
       "G_RSC (generic function with 1 method)"
      ]
     },
     "execution_count": 5,
     "metadata": {},
     "output_type": "execute_result"
    }
   ],
   "source": [
    "#2段スキームRSC\n",
    "function h_RSC(u, u_now, u_prev, eps, Dt, Dx) #U=(u,v)\n",
    "    N = length(u_now)\n",
    "    cd_u = diff1(u,Dx)\n",
    "    cdd_u = diff2(u,Dx)\n",
    "    au = (u + u_now + u_prev)/3\n",
    "    cd_au = diff1(au,Dx)\n",
    "    cdd_au = diff2(au,Dx)\n",
    "    cdd_ca_u = diff2((u + u_prev)/2,Dx)\n",
    "    left = (u - 2*u_now + u_prev)/(Dt^2) - cdd_ca_u\n",
    "    rest = [cdd_u[k]*cd_au[k] + cd_u[k]*cdd_au[k] for k in 1:N]\n",
    "    return left - eps*rest/6\n",
    "end\n",
    "#2段スキーム保存量\n",
    "function G_RSC(u, u_now, eps, Dt, Dx)\n",
    "    N = length(u)\n",
    "    bd_u = diff_back(u,Dx)\n",
    "    bd_u_now = diff_back(u_now,Dx)\n",
    "    return Dx*sum([(u[k]-u_now[k])^2/(Dt^2) + 0.5*(bd_u[k])^2 + 0.5*(bd_u_now[k])^2 + eps*(bd_u[k]^2*bd_u_now[k] + bd_u_now[k]^2*bd_u[k])/6 for k in 1:N])\n",
    "end"
   ]
  },
  {
   "cell_type": "code",
   "execution_count": 43,
   "id": "d39896dd-4ac8-4c35-9e4a-5664fa7c9a82",
   "metadata": {},
   "outputs": [
    {
     "data": {
      "text/plain": [
       "FPU_DVDM1 (generic function with 1 method)"
      ]
     },
     "execution_count": 43,
     "metadata": {},
     "output_type": "execute_result"
    }
   ],
   "source": [
    "#1段DVDM\n",
    "function FPU_DVDM1(U0, eps, M, Dt, Dx) # U0 = (u0,ut0)\n",
    "    t_start = time()\n",
    "    ulist = [U0]\n",
    "    U_now = U0\n",
    "    ene0 = G_DVDM1(U_now, eps, Dx)\n",
    "    max_err = 0\n",
    "    for m in 1:M\n",
    "        ini0 = 0.01*zeros(length(U0))\n",
    "        U_next = nls(h_DVDM1, U_now, eps, Dt, Dx, ini = U_now+ini0)\n",
    "        U_next = U_next[1]\n",
    "        u_next = U_next[1:(Int64(length(U0)/2))]\n",
    "        v_next = U_next[(Int64(length(U0)/2)+1):length(U0)]\n",
    "        U_next = vcat(u_next,v_next)\n",
    "        ene_now = G_DVDM1(U_next, eps, Dx)\n",
    "        ratio = abs((ene_now - ene0)/ene0)\n",
    "        if ratio > 10\n",
    "            println(\"DVDM1 Error\")\n",
    "            return ulist\n",
    "        end\n",
    "        max_err = max(max_err,ratio)\n",
    "        if m%10 == 0\n",
    "            println(\"DVDVM1, \", M, \" \", m, \" \", ratio)\n",
    "        end\n",
    "        push!(ulist,U_next)\n",
    "        U_now = U_next\n",
    "    end\n",
    "    t_end = time()\n",
    "    println(\"DVDM1_time \", t_end-t_start, \",保存量の変化比率最大値: \",max_err)\n",
    "    return ulist\n",
    "end"
   ]
  },
  {
   "cell_type": "code",
   "execution_count": 44,
   "id": "a1acfb62-a945-428a-b67a-77957426964a",
   "metadata": {},
   "outputs": [
    {
     "data": {
      "text/plain": [
       "FPU_DVDM2 (generic function with 2 methods)"
      ]
     },
     "execution_count": 44,
     "metadata": {},
     "output_type": "execute_result"
    }
   ],
   "source": [
    "#2段DVDM\n",
    "function FPU_DVDM2(u0, ut0, eps, M, Dt, Dx, test = false)\n",
    "    t_start = time()\n",
    "    ulist = [u0]\n",
    "    N = length(u0)\n",
    "    # u1 を計算\n",
    "    cd_u0 = diff1(u0,Dx)\n",
    "    cdd_u0 = diff2(u0,Dx)\n",
    "    u1 = [u0[k] + Dt*ut0[k] + 0.5*Dt^2*(1 + eps*cd_u0[k])*cdd_u0[k] for k in 1:N]\n",
    "    push!(ulist,u1)\n",
    "\n",
    "    u_prev = u0; u_now = u1\n",
    "    ene0 = G_DVDM2(u_now, u_prev, eps, Dt, Dx)\n",
    "    max_err = 0\n",
    "    for m in 2:M\n",
    "        ini0 = 0.01*ones(N)\n",
    "        u_next = nls(h_DVDM2, u_now, u_prev, eps, Dt, Dx, ini = u_now+ini0)\n",
    "        u_next = u_next[1]\n",
    "        ene_now = G_DVDM2(u_next, u_now, eps, Dt, Dx)\n",
    "        ratio = abs((ene_now - ene0)/ene0)\n",
    "        max_err = max(max_err,ratio)\n",
    "        if ratio > 10\n",
    "            println(\"DVDM2 Error\")\n",
    "            return ulist\n",
    "        end\n",
    "        if m%10 == 0\n",
    "            println(\"DVDM2, \", M, \" \", m, \" \", ratio)\n",
    "        end\n",
    "        push!(ulist,u_next)\n",
    "        u_prev = u_now; u_now = u_next\n",
    "    end\n",
    "    t_end = time()\n",
    "    println(\"DVDM2_time \", t_end-t_start, \",保存量の変化比率最大値: \",max_err)\n",
    "    return ulist\n",
    "end"
   ]
  },
  {
   "cell_type": "code",
   "execution_count": 45,
   "id": "69dfc94c-26fc-45cd-808c-d36661243fcf",
   "metadata": {},
   "outputs": [
    {
     "data": {
      "text/plain": [
       "FPU_RSC (generic function with 1 method)"
      ]
     },
     "execution_count": 45,
     "metadata": {},
     "output_type": "execute_result"
    }
   ],
   "source": [
    "#2段RSC\n",
    "function FPU_RSC(u0, ut0, eps, M, Dt, Dx)\n",
    "    t_start = time()\n",
    "    ulist = [u0]\n",
    "    N = length(u0)\n",
    "    \n",
    "    # u1 を計算\n",
    "    cd_u0 = diff1(u0,Dx)\n",
    "    cdd_u0 = diff2(u0,Dx)\n",
    "    u1 = [u0[k] + Dt*ut0[k] + 0.5*Dt^2*(1+eps*cd_u0[k])*cdd_u0[k] for k in 1:N]\n",
    "    \n",
    "    push!(ulist,u1)\n",
    "\n",
    "    u_prev = u0; u_now = u1\n",
    "    ene0 = G_RSC(u_now, u_prev, eps, Dt, Dx)\n",
    "    max_err = 0\n",
    "    for m in 2:M\n",
    "        ini0 = 0.01*ones(N)\n",
    "        u_next = nls(h_RSC, u_now, u_prev, eps, Dt, Dx, ini = u_now+ini0)\n",
    "        u_next = u_next[1]\n",
    "        ene_now = G_RSC(u_next, u_now, eps, Dt, Dx)\n",
    "        ratio = abs((ene_now - ene0)/ene0)\n",
    "        if ratio > 10\n",
    "            println(\"RSC Error\")\n",
    "            return ulist\n",
    "        end\n",
    "        max_err = max(max_err,ratio)\n",
    "        if m%10 == 0\n",
    "            println(\"RSC, \", M, \" \", m, \" \", ratio)\n",
    "        end\n",
    "        push!(ulist,u_next)\n",
    "        u_prev = u_now; u_now = u_next\n",
    "    end\n",
    "    t_end = time()\n",
    "    println(\"RSC_time \",t_end-t_start, \",保存量の変化比率最大値: \",max_err)\n",
    "    return ulist\n",
    "end"
   ]
  },
  {
   "cell_type": "code",
   "execution_count": 9,
   "id": "b5875d8f-25e1-4014-917b-8ea438292e32",
   "metadata": {},
   "outputs": [
    {
     "name": "stderr",
     "output_type": "stream",
     "text": [
      "\u001b[32m\u001b[1m   Resolving\u001b[22m\u001b[39m package versions...\n",
      "\u001b[32m\u001b[1m  No Changes\u001b[22m\u001b[39m to `~/.julia/environments/v1.11/Project.toml`\n",
      "\u001b[32m\u001b[1m  No Changes\u001b[22m\u001b[39m to `~/.julia/environments/v1.11/Manifest.toml`\n"
     ]
    }
   ],
   "source": [
    "import Pkg; Pkg.add(\"Plots\")"
   ]
  },
  {
   "cell_type": "code",
   "execution_count": 36,
   "id": "c53785bd-fb5d-4b04-a7f4-30ef8929c013",
   "metadata": {},
   "outputs": [
    {
     "data": {
      "text/plain": [
       "testing (generic function with 2 methods)"
      ]
     },
     "execution_count": 36,
     "metadata": {},
     "output_type": "execute_result"
    }
   ],
   "source": [
    "function testing(L,s,t,T)\n",
    "    Dt = 0.1; Dx = 0.1\n",
    "    N = Int64(ceil(L/Dx)); M = Int64(ceil(T/Dx))\n",
    "    ulist_DVDM1 = []; ulist_DVDM2 = []; ulist_RSC = []\n",
    "    println(N,M)\n",
    "    for i in s:t\n",
    "        u0 = [sin((1/L)*2*π*k*Dx*0.5^(i-1)) for k in 1:(N*2^(i-1))]\n",
    "        ut0 = zeros(Float64,N*2^(i-1))\n",
    "        U0 = vcat(u0,ut0)\n",
    "        push!(ulist_DVDM1, FPU_DVDM1(U0, 0.25, M*2^(i-1), Dt*0.5^(i-1), Dx*0.5^(i-1)))\n",
    "        push!(ulist_DVDM2, FPU_DVDM2(u0, ut0, 0.25, M*2^(i-1), Dt*0.5^(i-1), Dx*0.5^(i-1)))\n",
    "        push!(ulist_RSC, FPU_RSC(u0, ut0, 0.25, M*2^(i-1), Dt*0.5^(i-1), Dx*0.5^(i-1)))\n",
    "    end\n",
    "    M_end = M*2^(t-1)\n",
    "    for i in s:(t-1)\n",
    "        error_DVDM1, error_DVDM2, error_RSC = 0.0, 0.0, 0.0\n",
    "        error_1to2, error_1toR, error_2toR = 0.0, 0.0, 0.0\n",
    "        M_now = M*2^(i-1)\n",
    "        if length(ulist_DVDM1[i]) == M_now + 1\n",
    "            for m in 1:(M_now+1)\n",
    "                u1_DVDM1 = ulist_DVDM1[i][m][1:N*2^(i-1)]\n",
    "                if length(ulist_DVDM2[i]) == M_now + 1\n",
    "                    u1_DVDM2 = ulist_DVDM2[i][m][1:N*2^(i-1)]\n",
    "                    error_1to2 = max(error_1to2,L2error(u1_DVDM1,u1_DVDM2,Dx*0.5^(i-1)))\n",
    "                end\n",
    "                if length(ulist_RSC[i]) == M_now + 1\n",
    "                    u1_RSC = ulist_RSC[i][m][1:N*2^(i-1)]\n",
    "                    error_1toR = max(error_1to2,L2error(u1_DVDM1,u1_RSC,Dx*0.5^(i-1)))\n",
    "                end\n",
    "                if length(ulist_DVDM1[t]) == M_end + 1\n",
    "                    u2_DVDM1 = [ulist_DVDM1[t][1+(m-1)*2^(t-i)][k*2^(t-i)] for k in 1:(N*2^(i-1))]\n",
    "                    error_DVDM1 = max(error_DVDM1, L2error(u1_DVDM1, u2_DVDM1, Dx*0.5^(i-1)))\n",
    "                end\n",
    "            end\n",
    "        end\n",
    "        if length(ulist_DVDM2[i]) == M_now + 1\n",
    "            for m in 1:(M_now+1)\n",
    "                u1_DVDM2 = ulist_DVDM2[i][m][1:N*2^(i-1)]\n",
    "                if length(ulist_RSC[i]) == M_now + 1\n",
    "                    u1_RSC = ulist_RSC[i][m][1:N*2^(i-1)]\n",
    "                    error_2toR = max(error_1to2,L2error(u1_DVDM2,u1_RSC,Dx*0.5^(i-1)))\n",
    "                end\n",
    "                if length(ulist_DVDM1[t]) == M_end + 1\n",
    "                    u2_DVDM2 = [ulist_DVDM2[t][1+(m-1)*2^(t-i)][k*2^(t-i)] for k in 1:(N*2^(i-1))]\n",
    "                    error_DVDM2 = max(error_DVDM2, L2error(u1_DVDM2, u2_DVDM2, Dx*0.5^(i-1)))\n",
    "                end\n",
    "            end\n",
    "        end\n",
    "        if length(ulist_RSC[i]) == M_now + 1\n",
    "            if length(ulist_RSC[t]) == M_end + 1\n",
    "                for m in 1:(M_now+1)\n",
    "                    u1_RSC = ulist_RSC[i][m][1:N*2^(i-1)]\n",
    "                    u2_RSC = [ulist_RSC[t][1+(m-1)*2^(t-i)][k*2^(t-i)] for k in 1:(N*2^(i-1))]\n",
    "                    error_RSC = max(error_RSC, L2error(u1_RSC, u2_RSC, Dx*0.5^(i-1)))\n",
    "                end\n",
    "            end\n",
    "        end\n",
    "        println(error_DVDM1, \" \", error_DVDM2, \" \", error_RSC, \" \", error_1to2,\" \", error_1toR, \" \", error_2toR)\n",
    "    end\n",
    "end"
   ]
  },
  {
   "cell_type": "code",
   "execution_count": 11,
   "id": "89ae383f-d6c8-469d-b34e-9238eb281ed7",
   "metadata": {},
   "outputs": [
    {
     "data": {
      "text/plain": [
       "graphing_comparing (generic function with 1 method)"
      ]
     },
     "execution_count": 11,
     "metadata": {},
     "output_type": "execute_result"
    }
   ],
   "source": [
    "using Plots\n",
    "gr()\n",
    "function graphing_comparing(Dt,L,T)\n",
    "    Dx = Dt\n",
    "    N = Int64(ceil(L/Dx))\n",
    "    M = Int64(ceil(T/Dt))\n",
    "    u0 = [sin((1/L)*2*π*k*Dx) for k in 1:N]\n",
    "    ut0 = zeros(Float64,N)\n",
    "    U0 = vcat(u0,ut0)\n",
    "    u1 = FPU_DVDM1(U0, 0.25, M, Dt, Dx)\n",
    "    u2 = FPU_DVDM2(u0, ut0, 0.25, M, Dt, Dx)\n",
    "    uR = FPU_RSC(u0, ut0, 0.25, M, Dt, Dx)\n",
    "    anim = @animate for i in 1:length(u1)\n",
    "        plt = plot(u1[i][1:N],label=\"DVDM1\")\n",
    "        plot!(plt,u2[i],label=\"DVDM2\")\n",
    "        plot!(plt,uR[i],label=\"RSC\")\n",
    "        plot(plt,title = \"(L,Dt,t)=(\"*string(L)*\",\"*string(Dt)*\",\"*string(round((i-1)*Dt,digits=3))*\")\")\n",
    "    end\n",
    "    text = string(\"FPU_Dt=\")*string(Dt)*\"_L=\"*string(L)*\"_T=\"*string(T)*(\".gif\")\n",
    "    gif(anim, text, fps=20)\n",
    "end"
   ]
  },
  {
   "cell_type": "code",
   "execution_count": 12,
   "id": "b0b817bc-af50-461f-8114-0a657a90fa38",
   "metadata": {},
   "outputs": [],
   "source": [
    "#graphing_comparing(0.005,1.5,0.5)"
   ]
  },
  {
   "cell_type": "code",
   "execution_count": 17,
   "id": "27fc0da4-33b2-4b3e-a562-336a573d0712",
   "metadata": {},
   "outputs": [],
   "source": [
    "#testing(2,1,6,1)"
   ]
  },
  {
   "cell_type": "code",
   "execution_count": 18,
   "id": "edae97d5-6d47-400f-9170-02c0b43b2c84",
   "metadata": {},
   "outputs": [],
   "source": [
    "#testing(16,1,5,1)"
   ]
  },
  {
   "cell_type": "code",
   "execution_count": 51,
   "id": "c267dce8-b654-4c3b-bdb3-dbce310575d8",
   "metadata": {},
   "outputs": [
    {
     "name": "stdout",
     "output_type": "stream",
     "text": [
      "810\n",
      "DVDM1 Error\n",
      "DVDM2 Error\n",
      "RSC, 10 10 0.5023013135378741\n",
      "RSC_time 0.0016291141510009766,保存量の変化比率最大値: 0.5023013135378741\n",
      "DVDM1 Error\n",
      "DVDM2 Error\n",
      "RSC, 20 10 0.17453061408957493\n",
      "RSC Error\n",
      "DVDM1 Error\n",
      "DVDM2 Error\n",
      "RSC, 40 10 0.12712994425374377\n",
      "RSC, 40 20 5.765518428002216\n",
      "RSC Error\n",
      "DVDM1 Error\n",
      "DVDM2 Error\n",
      "RSC, 80 10 1.233776178464113\n",
      "RSC, 80 20 1.0526502324283427\n",
      "RSC Error\n",
      "DVDM1 Error\n",
      "DVDM2 Error\n",
      "RSC, 160 10 0.09821993070288317\n",
      "RSC, 160 20 0.1816277915267026\n",
      "RSC Error\n",
      "DVDM1 Error\n",
      "DVDM2 Error\n",
      "RSC, 320 10 0.9285236327971997\n",
      "RSC, 320 20 0.9257402302628235\n",
      "RSC, 320 30 0.9258384298701681\n",
      "RSC, 320 40 0.9259573638304709\n",
      "RSC, 320 50 0.9261601835982085\n",
      "RSC, 320 60 0.9263557979420591\n",
      "RSC, 320 70 0.9264875847059452\n",
      "RSC, 320 80 0.9266440808614254\n",
      "RSC, 320 90 0.9268401328419859\n",
      "RSC, 320 100 0.9271061201552621\n",
      "RSC, 320 110 0.9270229731968342\n",
      "RSC, 320 120 0.9282077205913263\n",
      "RSC Error\n",
      "0.0 0.0 0.0 0.0 0.0 0.0\n",
      "0.0 0.0 0.0 0.0 0.0 0.0\n",
      "0.0 0.0 0.0 0.0 0.0 0.0\n",
      "0.0 0.0 0.0 0.0 0.0 0.0\n",
      "0.0 0.0 0.0 0.0 0.0 0.0\n"
     ]
    }
   ],
   "source": [
    "testing(0.75,1,6,1)"
   ]
  },
  {
   "cell_type": "code",
   "execution_count": null,
   "id": "2bd6975b-875f-4567-8007-1f91a46d8a23",
   "metadata": {},
   "outputs": [],
   "source": []
  }
 ],
 "metadata": {
  "jupytext": {
   "encoding": "# -*- coding: utf-8 -*-",
   "formats": "ipynb,jl:percent"
  },
  "kernelspec": {
   "display_name": "Julia 1.11.2",
   "language": "julia",
   "name": "julia-1.11"
  },
  "language_info": {
   "file_extension": ".jl",
   "mimetype": "application/julia",
   "name": "julia",
   "version": "1.11.2"
  }
 },
 "nbformat": 4,
 "nbformat_minor": 5
}
